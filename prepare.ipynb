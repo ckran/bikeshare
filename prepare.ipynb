{
 "cells": [
  {
   "cell_type": "code",
   "execution_count": 1,
   "metadata": {},
   "outputs": [],
   "source": [
    "import pandas as pd\n",
    "from pandas import to_datetime\n",
    "\n",
    "import seaborn as sns\n",
    "import matplotlib.pyplot as plt"
   ]
  },
  {
   "cell_type": "code",
   "execution_count": 2,
   "metadata": {},
   "outputs": [],
   "source": [
    "df = pd.read_csv('202003-citibike-tripdata.csv')"
   ]
  },
  {
   "cell_type": "code",
   "execution_count": 3,
   "metadata": {},
   "outputs": [
    {
     "name": "stdout",
     "output_type": "stream",
     "text": [
      "<class 'pandas.core.frame.DataFrame'>\n",
      "RangeIndex: 1068457 entries, 0 to 1068456\n",
      "Data columns (total 15 columns):\n",
      " #   Column                   Non-Null Count    Dtype  \n",
      "---  ------                   --------------    -----  \n",
      " 0   tripduration             1068457 non-null  int64  \n",
      " 1   starttime                1068457 non-null  object \n",
      " 2   stoptime                 1068457 non-null  object \n",
      " 3   start station id         1068457 non-null  int64  \n",
      " 4   start station name       1068457 non-null  object \n",
      " 5   start station latitude   1068457 non-null  float64\n",
      " 6   start station longitude  1068457 non-null  float64\n",
      " 7   end station id           1068457 non-null  int64  \n",
      " 8   end station name         1068457 non-null  object \n",
      " 9   end station latitude     1068457 non-null  float64\n",
      " 10  end station longitude    1068457 non-null  float64\n",
      " 11  bikeid                   1068457 non-null  int64  \n",
      " 12  usertype                 1068457 non-null  object \n",
      " 13  birth year               1068457 non-null  int64  \n",
      " 14  gender                   1068457 non-null  int64  \n",
      "dtypes: float64(4), int64(6), object(5)\n",
      "memory usage: 122.3+ MB\n"
     ]
    }
   ],
   "source": [
    "df.info()"
   ]
  },
  {
   "cell_type": "code",
   "execution_count": 4,
   "metadata": {},
   "outputs": [
    {
     "data": {
      "text/html": [
       "<div>\n",
       "<style scoped>\n",
       "    .dataframe tbody tr th:only-of-type {\n",
       "        vertical-align: middle;\n",
       "    }\n",
       "\n",
       "    .dataframe tbody tr th {\n",
       "        vertical-align: top;\n",
       "    }\n",
       "\n",
       "    .dataframe thead th {\n",
       "        text-align: right;\n",
       "    }\n",
       "</style>\n",
       "<table border=\"1\" class=\"dataframe\">\n",
       "  <thead>\n",
       "    <tr style=\"text-align: right;\">\n",
       "      <th></th>\n",
       "      <th>tripduration</th>\n",
       "      <th>starttime</th>\n",
       "      <th>stoptime</th>\n",
       "      <th>start station id</th>\n",
       "      <th>start station name</th>\n",
       "      <th>start station latitude</th>\n",
       "      <th>start station longitude</th>\n",
       "      <th>end station id</th>\n",
       "      <th>end station name</th>\n",
       "      <th>end station latitude</th>\n",
       "      <th>end station longitude</th>\n",
       "      <th>bikeid</th>\n",
       "      <th>usertype</th>\n",
       "      <th>birth year</th>\n",
       "      <th>gender</th>\n",
       "    </tr>\n",
       "  </thead>\n",
       "  <tbody>\n",
       "    <tr>\n",
       "      <th>0</th>\n",
       "      <td>1589</td>\n",
       "      <td>2020-03-01 00:00:03.6400</td>\n",
       "      <td>2020-03-01 00:26:32.9860</td>\n",
       "      <td>224</td>\n",
       "      <td>Spruce St &amp; Nassau St</td>\n",
       "      <td>40.711464</td>\n",
       "      <td>-74.005524</td>\n",
       "      <td>3574</td>\n",
       "      <td>Prospect Pl &amp; Underhill Ave</td>\n",
       "      <td>40.676969</td>\n",
       "      <td>-73.965790</td>\n",
       "      <td>16214</td>\n",
       "      <td>Subscriber</td>\n",
       "      <td>1980</td>\n",
       "      <td>1</td>\n",
       "    </tr>\n",
       "    <tr>\n",
       "      <th>1</th>\n",
       "      <td>389</td>\n",
       "      <td>2020-03-01 00:00:16.7560</td>\n",
       "      <td>2020-03-01 00:06:46.0620</td>\n",
       "      <td>293</td>\n",
       "      <td>Lafayette St &amp; E 8 St</td>\n",
       "      <td>40.730207</td>\n",
       "      <td>-73.991026</td>\n",
       "      <td>223</td>\n",
       "      <td>W 13 St &amp; 7 Ave</td>\n",
       "      <td>40.737815</td>\n",
       "      <td>-73.999947</td>\n",
       "      <td>29994</td>\n",
       "      <td>Subscriber</td>\n",
       "      <td>1991</td>\n",
       "      <td>2</td>\n",
       "    </tr>\n",
       "    <tr>\n",
       "      <th>2</th>\n",
       "      <td>614</td>\n",
       "      <td>2020-03-01 00:00:20.0580</td>\n",
       "      <td>2020-03-01 00:10:34.2200</td>\n",
       "      <td>379</td>\n",
       "      <td>W 31 St &amp; 7 Ave</td>\n",
       "      <td>40.749156</td>\n",
       "      <td>-73.991600</td>\n",
       "      <td>515</td>\n",
       "      <td>W 43 St &amp; 10 Ave</td>\n",
       "      <td>40.760094</td>\n",
       "      <td>-73.994618</td>\n",
       "      <td>39853</td>\n",
       "      <td>Subscriber</td>\n",
       "      <td>1991</td>\n",
       "      <td>1</td>\n",
       "    </tr>\n",
       "    <tr>\n",
       "      <th>3</th>\n",
       "      <td>597</td>\n",
       "      <td>2020-03-01 00:00:24.3510</td>\n",
       "      <td>2020-03-01 00:10:22.3390</td>\n",
       "      <td>3739</td>\n",
       "      <td>Perry St &amp; Greenwich Ave</td>\n",
       "      <td>40.735918</td>\n",
       "      <td>-74.000939</td>\n",
       "      <td>325</td>\n",
       "      <td>E 19 St &amp; 3 Ave</td>\n",
       "      <td>40.736245</td>\n",
       "      <td>-73.984738</td>\n",
       "      <td>42608</td>\n",
       "      <td>Subscriber</td>\n",
       "      <td>1989</td>\n",
       "      <td>1</td>\n",
       "    </tr>\n",
       "    <tr>\n",
       "      <th>4</th>\n",
       "      <td>1920</td>\n",
       "      <td>2020-03-01 00:00:26.1120</td>\n",
       "      <td>2020-03-01 00:32:26.2680</td>\n",
       "      <td>236</td>\n",
       "      <td>St Marks Pl &amp; 2 Ave</td>\n",
       "      <td>40.728419</td>\n",
       "      <td>-73.987140</td>\n",
       "      <td>3124</td>\n",
       "      <td>46 Ave &amp; 5 St</td>\n",
       "      <td>40.747310</td>\n",
       "      <td>-73.954510</td>\n",
       "      <td>36288</td>\n",
       "      <td>Subscriber</td>\n",
       "      <td>1993</td>\n",
       "      <td>1</td>\n",
       "    </tr>\n",
       "  </tbody>\n",
       "</table>\n",
       "</div>"
      ],
      "text/plain": [
       "   tripduration                 starttime                  stoptime  \\\n",
       "0          1589  2020-03-01 00:00:03.6400  2020-03-01 00:26:32.9860   \n",
       "1           389  2020-03-01 00:00:16.7560  2020-03-01 00:06:46.0620   \n",
       "2           614  2020-03-01 00:00:20.0580  2020-03-01 00:10:34.2200   \n",
       "3           597  2020-03-01 00:00:24.3510  2020-03-01 00:10:22.3390   \n",
       "4          1920  2020-03-01 00:00:26.1120  2020-03-01 00:32:26.2680   \n",
       "\n",
       "   start station id        start station name  start station latitude  \\\n",
       "0               224     Spruce St & Nassau St               40.711464   \n",
       "1               293     Lafayette St & E 8 St               40.730207   \n",
       "2               379           W 31 St & 7 Ave               40.749156   \n",
       "3              3739  Perry St & Greenwich Ave               40.735918   \n",
       "4               236       St Marks Pl & 2 Ave               40.728419   \n",
       "\n",
       "   start station longitude  end station id             end station name  \\\n",
       "0               -74.005524            3574  Prospect Pl & Underhill Ave   \n",
       "1               -73.991026             223              W 13 St & 7 Ave   \n",
       "2               -73.991600             515             W 43 St & 10 Ave   \n",
       "3               -74.000939             325              E 19 St & 3 Ave   \n",
       "4               -73.987140            3124                46 Ave & 5 St   \n",
       "\n",
       "   end station latitude  end station longitude  bikeid    usertype  \\\n",
       "0             40.676969             -73.965790   16214  Subscriber   \n",
       "1             40.737815             -73.999947   29994  Subscriber   \n",
       "2             40.760094             -73.994618   39853  Subscriber   \n",
       "3             40.736245             -73.984738   42608  Subscriber   \n",
       "4             40.747310             -73.954510   36288  Subscriber   \n",
       "\n",
       "   birth year  gender  \n",
       "0        1980       1  \n",
       "1        1991       2  \n",
       "2        1991       1  \n",
       "3        1989       1  \n",
       "4        1993       1  "
      ]
     },
     "execution_count": 4,
     "metadata": {},
     "output_type": "execute_result"
    }
   ],
   "source": [
    "df.head()"
   ]
  },
  {
   "cell_type": "code",
   "execution_count": 5,
   "metadata": {},
   "outputs": [
    {
     "data": {
      "text/html": [
       "<div>\n",
       "<style scoped>\n",
       "    .dataframe tbody tr th:only-of-type {\n",
       "        vertical-align: middle;\n",
       "    }\n",
       "\n",
       "    .dataframe tbody tr th {\n",
       "        vertical-align: top;\n",
       "    }\n",
       "\n",
       "    .dataframe thead th {\n",
       "        text-align: right;\n",
       "    }\n",
       "</style>\n",
       "<table border=\"1\" class=\"dataframe\">\n",
       "  <thead>\n",
       "    <tr style=\"text-align: right;\">\n",
       "      <th></th>\n",
       "      <th>tripduration</th>\n",
       "      <th>start station id</th>\n",
       "      <th>start station latitude</th>\n",
       "      <th>start station longitude</th>\n",
       "      <th>end station id</th>\n",
       "      <th>end station latitude</th>\n",
       "      <th>end station longitude</th>\n",
       "      <th>bikeid</th>\n",
       "      <th>birth year</th>\n",
       "      <th>gender</th>\n",
       "    </tr>\n",
       "  </thead>\n",
       "  <tbody>\n",
       "    <tr>\n",
       "      <th>count</th>\n",
       "      <td>1068457.00</td>\n",
       "      <td>1068457.00</td>\n",
       "      <td>1068457.00</td>\n",
       "      <td>1068457.00</td>\n",
       "      <td>1068457.00</td>\n",
       "      <td>1068457.00</td>\n",
       "      <td>1068457.00</td>\n",
       "      <td>1068457.00</td>\n",
       "      <td>1068457.00</td>\n",
       "      <td>1068457.00</td>\n",
       "    </tr>\n",
       "    <tr>\n",
       "      <th>mean</th>\n",
       "      <td>1160.83</td>\n",
       "      <td>1809.89</td>\n",
       "      <td>40.74</td>\n",
       "      <td>-73.98</td>\n",
       "      <td>1804.10</td>\n",
       "      <td>40.74</td>\n",
       "      <td>-73.98</td>\n",
       "      <td>33307.91</td>\n",
       "      <td>1979.90</td>\n",
       "      <td>1.17</td>\n",
       "    </tr>\n",
       "    <tr>\n",
       "      <th>std</th>\n",
       "      <td>13946.59</td>\n",
       "      <td>1511.14</td>\n",
       "      <td>0.03</td>\n",
       "      <td>0.02</td>\n",
       "      <td>1511.58</td>\n",
       "      <td>0.03</td>\n",
       "      <td>0.02</td>\n",
       "      <td>8231.19</td>\n",
       "      <td>12.53</td>\n",
       "      <td>0.54</td>\n",
       "    </tr>\n",
       "    <tr>\n",
       "      <th>min</th>\n",
       "      <td>61.00</td>\n",
       "      <td>72.00</td>\n",
       "      <td>40.66</td>\n",
       "      <td>-74.02</td>\n",
       "      <td>72.00</td>\n",
       "      <td>40.66</td>\n",
       "      <td>-74.07</td>\n",
       "      <td>14530.00</td>\n",
       "      <td>1885.00</td>\n",
       "      <td>0.00</td>\n",
       "    </tr>\n",
       "    <tr>\n",
       "      <th>25%</th>\n",
       "      <td>379.00</td>\n",
       "      <td>401.00</td>\n",
       "      <td>40.72</td>\n",
       "      <td>-73.99</td>\n",
       "      <td>398.00</td>\n",
       "      <td>40.72</td>\n",
       "      <td>-73.99</td>\n",
       "      <td>28841.00</td>\n",
       "      <td>1969.00</td>\n",
       "      <td>1.00</td>\n",
       "    </tr>\n",
       "    <tr>\n",
       "      <th>50%</th>\n",
       "      <td>680.00</td>\n",
       "      <td>530.00</td>\n",
       "      <td>40.74</td>\n",
       "      <td>-73.98</td>\n",
       "      <td>529.00</td>\n",
       "      <td>40.74</td>\n",
       "      <td>-73.98</td>\n",
       "      <td>35221.00</td>\n",
       "      <td>1982.00</td>\n",
       "      <td>1.00</td>\n",
       "    </tr>\n",
       "    <tr>\n",
       "      <th>75%</th>\n",
       "      <td>1246.00</td>\n",
       "      <td>3360.00</td>\n",
       "      <td>40.76</td>\n",
       "      <td>-73.97</td>\n",
       "      <td>3360.00</td>\n",
       "      <td>40.76</td>\n",
       "      <td>-73.97</td>\n",
       "      <td>40136.00</td>\n",
       "      <td>1990.00</td>\n",
       "      <td>1.00</td>\n",
       "    </tr>\n",
       "    <tr>\n",
       "      <th>max</th>\n",
       "      <td>3247190.00</td>\n",
       "      <td>3919.00</td>\n",
       "      <td>40.82</td>\n",
       "      <td>-73.90</td>\n",
       "      <td>3919.00</td>\n",
       "      <td>40.82</td>\n",
       "      <td>-73.90</td>\n",
       "      <td>43878.00</td>\n",
       "      <td>2004.00</td>\n",
       "      <td>2.00</td>\n",
       "    </tr>\n",
       "  </tbody>\n",
       "</table>\n",
       "</div>"
      ],
      "text/plain": [
       "       tripduration  start station id  start station latitude  \\\n",
       "count    1068457.00        1068457.00              1068457.00   \n",
       "mean        1160.83           1809.89                   40.74   \n",
       "std        13946.59           1511.14                    0.03   \n",
       "min           61.00             72.00                   40.66   \n",
       "25%          379.00            401.00                   40.72   \n",
       "50%          680.00            530.00                   40.74   \n",
       "75%         1246.00           3360.00                   40.76   \n",
       "max      3247190.00           3919.00                   40.82   \n",
       "\n",
       "       start station longitude  end station id  end station latitude  \\\n",
       "count               1068457.00      1068457.00            1068457.00   \n",
       "mean                    -73.98         1804.10                 40.74   \n",
       "std                       0.02         1511.58                  0.03   \n",
       "min                     -74.02           72.00                 40.66   \n",
       "25%                     -73.99          398.00                 40.72   \n",
       "50%                     -73.98          529.00                 40.74   \n",
       "75%                     -73.97         3360.00                 40.76   \n",
       "max                     -73.90         3919.00                 40.82   \n",
       "\n",
       "       end station longitude      bikeid  birth year      gender  \n",
       "count             1068457.00  1068457.00  1068457.00  1068457.00  \n",
       "mean                  -73.98    33307.91     1979.90        1.17  \n",
       "std                     0.02     8231.19       12.53        0.54  \n",
       "min                   -74.07    14530.00     1885.00        0.00  \n",
       "25%                   -73.99    28841.00     1969.00        1.00  \n",
       "50%                   -73.98    35221.00     1982.00        1.00  \n",
       "75%                   -73.97    40136.00     1990.00        1.00  \n",
       "max                   -73.90    43878.00     2004.00        2.00  "
      ]
     },
     "execution_count": 5,
     "metadata": {},
     "output_type": "execute_result"
    }
   ],
   "source": [
    "df.describe().round(2)"
   ]
  },
  {
   "cell_type": "markdown",
   "metadata": {},
   "source": [
    "### Data Types"
   ]
  },
  {
   "cell_type": "code",
   "execution_count": 6,
   "metadata": {},
   "outputs": [
    {
     "data": {
      "text/html": [
       "<div>\n",
       "<style scoped>\n",
       "    .dataframe tbody tr th:only-of-type {\n",
       "        vertical-align: middle;\n",
       "    }\n",
       "\n",
       "    .dataframe tbody tr th {\n",
       "        vertical-align: top;\n",
       "    }\n",
       "\n",
       "    .dataframe thead th {\n",
       "        text-align: right;\n",
       "    }\n",
       "</style>\n",
       "<table border=\"1\" class=\"dataframe\">\n",
       "  <thead>\n",
       "    <tr style=\"text-align: right;\">\n",
       "      <th></th>\n",
       "      <th>Column Name</th>\n",
       "      <th>Unique</th>\n",
       "      <th>Data Type</th>\n",
       "      <th>Memory Usage</th>\n",
       "    </tr>\n",
       "  </thead>\n",
       "  <tbody>\n",
       "    <tr>\n",
       "      <th>0</th>\n",
       "      <td>tripduration</td>\n",
       "      <td>10252</td>\n",
       "      <td>int64</td>\n",
       "      <td>8547784</td>\n",
       "    </tr>\n",
       "    <tr>\n",
       "      <th>1</th>\n",
       "      <td>starttime</td>\n",
       "      <td>1068008</td>\n",
       "      <td>object</td>\n",
       "      <td>86545145</td>\n",
       "    </tr>\n",
       "    <tr>\n",
       "      <th>2</th>\n",
       "      <td>stoptime</td>\n",
       "      <td>1067964</td>\n",
       "      <td>object</td>\n",
       "      <td>86545145</td>\n",
       "    </tr>\n",
       "    <tr>\n",
       "      <th>3</th>\n",
       "      <td>start station id</td>\n",
       "      <td>889</td>\n",
       "      <td>int64</td>\n",
       "      <td>8547784</td>\n",
       "    </tr>\n",
       "    <tr>\n",
       "      <th>4</th>\n",
       "      <td>start station name</td>\n",
       "      <td>889</td>\n",
       "      <td>object</td>\n",
       "      <td>81856205</td>\n",
       "    </tr>\n",
       "    <tr>\n",
       "      <th>5</th>\n",
       "      <td>start station latitude</td>\n",
       "      <td>923</td>\n",
       "      <td>float64</td>\n",
       "      <td>8547784</td>\n",
       "    </tr>\n",
       "    <tr>\n",
       "      <th>6</th>\n",
       "      <td>start station longitude</td>\n",
       "      <td>912</td>\n",
       "      <td>float64</td>\n",
       "      <td>8547784</td>\n",
       "    </tr>\n",
       "    <tr>\n",
       "      <th>7</th>\n",
       "      <td>end station id</td>\n",
       "      <td>899</td>\n",
       "      <td>int64</td>\n",
       "      <td>8547784</td>\n",
       "    </tr>\n",
       "    <tr>\n",
       "      <th>8</th>\n",
       "      <td>end station name</td>\n",
       "      <td>899</td>\n",
       "      <td>object</td>\n",
       "      <td>81862917</td>\n",
       "    </tr>\n",
       "    <tr>\n",
       "      <th>9</th>\n",
       "      <td>end station latitude</td>\n",
       "      <td>932</td>\n",
       "      <td>float64</td>\n",
       "      <td>8547784</td>\n",
       "    </tr>\n",
       "    <tr>\n",
       "      <th>10</th>\n",
       "      <td>end station longitude</td>\n",
       "      <td>921</td>\n",
       "      <td>float64</td>\n",
       "      <td>8547784</td>\n",
       "    </tr>\n",
       "    <tr>\n",
       "      <th>11</th>\n",
       "      <td>bikeid</td>\n",
       "      <td>14882</td>\n",
       "      <td>int64</td>\n",
       "      <td>8547784</td>\n",
       "    </tr>\n",
       "    <tr>\n",
       "      <th>12</th>\n",
       "      <td>usertype</td>\n",
       "      <td>2</td>\n",
       "      <td>object</td>\n",
       "      <td>71277969</td>\n",
       "    </tr>\n",
       "    <tr>\n",
       "      <th>13</th>\n",
       "      <td>birth year</td>\n",
       "      <td>103</td>\n",
       "      <td>int64</td>\n",
       "      <td>8547784</td>\n",
       "    </tr>\n",
       "    <tr>\n",
       "      <th>14</th>\n",
       "      <td>gender</td>\n",
       "      <td>3</td>\n",
       "      <td>int64</td>\n",
       "      <td>8547784</td>\n",
       "    </tr>\n",
       "  </tbody>\n",
       "</table>\n",
       "</div>"
      ],
      "text/plain": [
       "                Column Name   Unique Data Type  Memory Usage\n",
       "0              tripduration    10252     int64       8547784\n",
       "1                 starttime  1068008    object      86545145\n",
       "2                  stoptime  1067964    object      86545145\n",
       "3          start station id      889     int64       8547784\n",
       "4        start station name      889    object      81856205\n",
       "5    start station latitude      923   float64       8547784\n",
       "6   start station longitude      912   float64       8547784\n",
       "7            end station id      899     int64       8547784\n",
       "8          end station name      899    object      81862917\n",
       "9      end station latitude      932   float64       8547784\n",
       "10    end station longitude      921   float64       8547784\n",
       "11                   bikeid    14882     int64       8547784\n",
       "12                 usertype        2    object      71277969\n",
       "13               birth year      103     int64       8547784\n",
       "14                   gender        3     int64       8547784"
      ]
     },
     "execution_count": 6,
     "metadata": {},
     "output_type": "execute_result"
    }
   ],
   "source": [
    "pd.DataFrame.from_records([(col, df[col].nunique(), df[col].dtype, df[col].memory_usage(deep=True) )  for col in df.columns],\n",
    "    columns=['Column Name', 'Unique', 'Data Type','Memory Usage'])"
   ]
  },
  {
   "cell_type": "code",
   "execution_count": 7,
   "metadata": {},
   "outputs": [],
   "source": [
    "df['starttime'] = to_datetime(df['starttime'])\n",
    "df['stoptime'] = to_datetime(df['stoptime'])"
   ]
  },
  {
   "cell_type": "code",
   "execution_count": 8,
   "metadata": {},
   "outputs": [],
   "source": [
    "cols = ['start station name', 'end station name', 'usertype', 'gender']\n",
    "for col in cols:\n",
    "    df[col] = df[col].astype('category')"
   ]
  },
  {
   "cell_type": "code",
   "execution_count": 9,
   "metadata": {},
   "outputs": [],
   "source": [
    "df['bikeid'] = df['bikeid'].astype('category')"
   ]
  },
  {
   "cell_type": "code",
   "execution_count": 10,
   "metadata": {},
   "outputs": [
    {
     "data": {
      "text/html": [
       "<div>\n",
       "<style scoped>\n",
       "    .dataframe tbody tr th:only-of-type {\n",
       "        vertical-align: middle;\n",
       "    }\n",
       "\n",
       "    .dataframe tbody tr th {\n",
       "        vertical-align: top;\n",
       "    }\n",
       "\n",
       "    .dataframe thead th {\n",
       "        text-align: right;\n",
       "    }\n",
       "</style>\n",
       "<table border=\"1\" class=\"dataframe\">\n",
       "  <thead>\n",
       "    <tr style=\"text-align: right;\">\n",
       "      <th></th>\n",
       "      <th>Column Name</th>\n",
       "      <th>Unique</th>\n",
       "      <th>Data Type</th>\n",
       "      <th>Memory Usage</th>\n",
       "    </tr>\n",
       "  </thead>\n",
       "  <tbody>\n",
       "    <tr>\n",
       "      <th>0</th>\n",
       "      <td>tripduration</td>\n",
       "      <td>10252</td>\n",
       "      <td>int64</td>\n",
       "      <td>8547784</td>\n",
       "    </tr>\n",
       "    <tr>\n",
       "      <th>1</th>\n",
       "      <td>starttime</td>\n",
       "      <td>1068008</td>\n",
       "      <td>datetime64[ns]</td>\n",
       "      <td>8547784</td>\n",
       "    </tr>\n",
       "    <tr>\n",
       "      <th>2</th>\n",
       "      <td>stoptime</td>\n",
       "      <td>1067964</td>\n",
       "      <td>datetime64[ns]</td>\n",
       "      <td>8547784</td>\n",
       "    </tr>\n",
       "    <tr>\n",
       "      <th>3</th>\n",
       "      <td>start station id</td>\n",
       "      <td>889</td>\n",
       "      <td>int64</td>\n",
       "      <td>8547784</td>\n",
       "    </tr>\n",
       "    <tr>\n",
       "      <th>4</th>\n",
       "      <td>start station name</td>\n",
       "      <td>889</td>\n",
       "      <td>category</td>\n",
       "      <td>2239175</td>\n",
       "    </tr>\n",
       "    <tr>\n",
       "      <th>5</th>\n",
       "      <td>start station latitude</td>\n",
       "      <td>923</td>\n",
       "      <td>float64</td>\n",
       "      <td>8547784</td>\n",
       "    </tr>\n",
       "    <tr>\n",
       "      <th>6</th>\n",
       "      <td>start station longitude</td>\n",
       "      <td>912</td>\n",
       "      <td>float64</td>\n",
       "      <td>8547784</td>\n",
       "    </tr>\n",
       "    <tr>\n",
       "      <th>7</th>\n",
       "      <td>end station id</td>\n",
       "      <td>899</td>\n",
       "      <td>int64</td>\n",
       "      <td>8547784</td>\n",
       "    </tr>\n",
       "    <tr>\n",
       "      <th>8</th>\n",
       "      <td>end station name</td>\n",
       "      <td>899</td>\n",
       "      <td>category</td>\n",
       "      <td>2239883</td>\n",
       "    </tr>\n",
       "    <tr>\n",
       "      <th>9</th>\n",
       "      <td>end station latitude</td>\n",
       "      <td>932</td>\n",
       "      <td>float64</td>\n",
       "      <td>8547784</td>\n",
       "    </tr>\n",
       "    <tr>\n",
       "      <th>10</th>\n",
       "      <td>end station longitude</td>\n",
       "      <td>921</td>\n",
       "      <td>float64</td>\n",
       "      <td>8547784</td>\n",
       "    </tr>\n",
       "    <tr>\n",
       "      <th>11</th>\n",
       "      <td>bikeid</td>\n",
       "      <td>14882</td>\n",
       "      <td>category</td>\n",
       "      <td>2784522</td>\n",
       "    </tr>\n",
       "    <tr>\n",
       "      <th>12</th>\n",
       "      <td>usertype</td>\n",
       "      <td>2</td>\n",
       "      <td>category</td>\n",
       "      <td>1068825</td>\n",
       "    </tr>\n",
       "    <tr>\n",
       "      <th>13</th>\n",
       "      <td>birth year</td>\n",
       "      <td>103</td>\n",
       "      <td>int64</td>\n",
       "      <td>8547784</td>\n",
       "    </tr>\n",
       "    <tr>\n",
       "      <th>14</th>\n",
       "      <td>gender</td>\n",
       "      <td>3</td>\n",
       "      <td>category</td>\n",
       "      <td>1068717</td>\n",
       "    </tr>\n",
       "  </tbody>\n",
       "</table>\n",
       "</div>"
      ],
      "text/plain": [
       "                Column Name   Unique       Data Type  Memory Usage\n",
       "0              tripduration    10252           int64       8547784\n",
       "1                 starttime  1068008  datetime64[ns]       8547784\n",
       "2                  stoptime  1067964  datetime64[ns]       8547784\n",
       "3          start station id      889           int64       8547784\n",
       "4        start station name      889        category       2239175\n",
       "5    start station latitude      923         float64       8547784\n",
       "6   start station longitude      912         float64       8547784\n",
       "7            end station id      899           int64       8547784\n",
       "8          end station name      899        category       2239883\n",
       "9      end station latitude      932         float64       8547784\n",
       "10    end station longitude      921         float64       8547784\n",
       "11                   bikeid    14882        category       2784522\n",
       "12                 usertype        2        category       1068825\n",
       "13               birth year      103           int64       8547784\n",
       "14                   gender        3        category       1068717"
      ]
     },
     "execution_count": 10,
     "metadata": {},
     "output_type": "execute_result"
    }
   ],
   "source": [
    "pd.DataFrame.from_records([(col, df[col].nunique(), df[col].dtype, df[col].memory_usage(deep=True) )  for col in df.columns],\n",
    "    columns=['Column Name', 'Unique', 'Data Type','Memory Usage'])"
   ]
  },
  {
   "cell_type": "code",
   "execution_count": 11,
   "metadata": {},
   "outputs": [],
   "source": [
    "df['tripminutes'] = df['tripduration'] // 60 "
   ]
  },
  {
   "cell_type": "code",
   "execution_count": 12,
   "metadata": {},
   "outputs": [
    {
     "data": {
      "image/png": "[encoded data removed]",
      "text/plain": [
       "<Figure size 720x360 with 1 Axes>"
      ]
     },
     "metadata": {
      "needs_background": "light"
     },
     "output_type": "display_data"
    }
   ],
   "source": [
    "sns.displot(data=df,x=\"tripminutes\" , bins=range(1,61) , aspect=10/5  ) ;"
   ]
  },
  {
   "cell_type": "markdown",
   "metadata": {},
   "source": [
    "### Date components"
   ]
  },
  {
   "cell_type": "code",
   "execution_count": 13,
   "metadata": {},
   "outputs": [],
   "source": [
    "df['start hour']=df['starttime'].dt.hour.astype('category')\n",
    "df['start day']=df['starttime'].dt.day.astype('category')\n",
    "df['weekday']=df['starttime'].dt.weekday.astype('category')"
   ]
  },
  {
   "cell_type": "markdown",
   "metadata": {},
   "source": [
    "### Rides per Hour of the Day "
   ]
  },
  {
   "cell_type": "code",
   "execution_count": 14,
   "metadata": {},
   "outputs": [
    {
     "data": {
      "image/png": "[encoded data removed]",
      "text/plain": [
       "<Figure size 864x360 with 1 Axes>"
      ]
     },
     "metadata": {
      "needs_background": "light"
     },
     "output_type": "display_data"
    }
   ],
   "source": [
    "plt.figure(figsize=(12,5))\n",
    "sns.countplot(data=df, x=\"start hour\" ) ;"
   ]
  },
  {
   "cell_type": "markdown",
   "metadata": {},
   "source": [
    "### Rides per Day of Month"
   ]
  },
  {
   "cell_type": "code",
   "execution_count": 15,
   "metadata": {},
   "outputs": [
    {
     "data": {
      "image/png": "[encoded data removed]",
      "text/plain": [
       "<Figure size 864x432 with 1 Axes>"
      ]
     },
     "metadata": {
      "needs_background": "light"
     },
     "output_type": "display_data"
    }
   ],
   "source": [
    "df['day'] = [\"Weekday\" if d <= 4  else \"Weekend\" for d in df['weekday']] # weekday values start with 0=Monday\n",
    "plt.figure(figsize=(12,6))\n",
    "sns.set_palette(\"Set2\")\n",
    "sns.countplot(data=df,x=\"start day\" , hue='day' , dodge=False  ) ;"
   ]
  },
  {
   "cell_type": "markdown",
   "metadata": {},
   "source": [
    "### Station Use\n"
   ]
  },
  {
   "cell_type": "code",
   "execution_count": 16,
   "metadata": {},
   "outputs": [],
   "source": [
    "# startat = df.groupby(\"start station name\")['start station name'].count().nlargest(20) \n",
    "startsstation = df['start station name'].value_counts()[:20]"
   ]
  },
  {
   "cell_type": "code",
   "execution_count": 17,
   "metadata": {},
   "outputs": [
    {
     "data": {
      "image/png": "[encoded data removed]",
      "text/plain": [
       "<Figure size 864x720 with 1 Axes>"
      ]
     },
     "metadata": {
      "needs_background": "light"
     },
     "output_type": "display_data"
    }
   ],
   "source": [
    "plt.figure(figsize=(12,10))\n",
    "sns.barplot( x=startsstation.values , y=list(startsstation.index),  orient=\"h\"  ) ;"
   ]
  },
  {
   "cell_type": "markdown",
   "metadata": {},
   "source": [
    "### Rider's Ages "
   ]
  },
  {
   "cell_type": "code",
   "execution_count": 18,
   "metadata": {},
   "outputs": [
    {
     "data": {
      "image/png": "[encoded data removed]",
      "text/plain": [
       "<Figure size 720x360 with 1 Axes>"
      ]
     },
     "metadata": {
      "needs_background": "light"
     },
     "output_type": "display_data"
    }
   ],
   "source": [
    "sns.displot(data=df,x=\"birth year\" , bins=range(1946,2004),  aspect=10/5) ;"
   ]
  },
  {
   "cell_type": "code",
   "execution_count": 19,
   "metadata": {},
   "outputs": [
    {
     "data": {
      "image/png": "[encoded data removed]",
      "text/plain": [
       "<Figure size 809.125x360 with 1 Axes>"
      ]
     },
     "metadata": {
      "needs_background": "light"
     },
     "output_type": "display_data"
    }
   ],
   "source": [
    "sns.displot(data=df,x=\"birth year\", bins=range(1946,2004), hue='usertype', multiple='stack',  aspect=10/5) ;"
   ]
  },
  {
   "cell_type": "code",
   "execution_count": 20,
   "metadata": {},
   "outputs": [
    {
     "data": {
      "image/png": "[encoded data removed]",
      "text/plain": [
       "<Figure size 763.5x360 with 1 Axes>"
      ]
     },
     "metadata": {
      "needs_background": "light"
     },
     "output_type": "display_data"
    }
   ],
   "source": [
    "sns.displot(data=df,x=\"birth year\" , bins=range(1946,2004), hue='gender',  multiple='stack', aspect=10/5) ;"
   ]
  },
  {
   "cell_type": "code",
   "execution_count": 21,
   "metadata": {},
   "outputs": [
    {
     "data": {
      "text/plain": [
       "count     981616\n",
       "unique        59\n",
       "top           30\n",
       "freq       42167\n",
       "Name: age, dtype: int64"
      ]
     },
     "execution_count": 21,
     "metadata": {},
     "output_type": "execute_result"
    }
   ],
   "source": [
    "skip = (df['gender'] == 0) | (df['birth year'] < 1946) \n",
    "df['age'] = (2020 - df['birth year']).mask(skip,None)\n",
    "df['age'].describe()"
   ]
  },
  {
   "cell_type": "code",
   "execution_count": 22,
   "metadata": {},
   "outputs": [
    {
     "data": {
      "image/png": "[encoded data removed]",
      "text/plain": [
       "<Figure size 763.5x360 with 1 Axes>"
      ]
     },
     "metadata": {
      "needs_background": "light"
     },
     "output_type": "display_data"
    }
   ],
   "source": [
    "sns.displot(data=df, x='age', hue='gender', multiple='stack',  aspect=10/5) ;"
   ]
  },
  {
   "cell_type": "markdown",
   "metadata": {},
   "source": [
    "### Write to Parquet "
   ]
  },
  {
   "cell_type": "code",
   "execution_count": 23,
   "metadata": {},
   "outputs": [],
   "source": [
    "df.to_parquet('202003-citibike-tripdata.parquet') "
   ]
  }
 ],
 "metadata": {
  "kernelspec": {
   "display_name": "Python 3",
   "language": "python",
   "name": "python3"
  },
  "language_info": {
   "codemirror_mode": {
    "name": "ipython",
    "version": 3
   },
   "file_extension": ".py",
   "mimetype": "text/x-python",
   "name": "python",
   "nbconvert_exporter": "python",
   "pygments_lexer": "ipython3",
   "version": "3.8.3"
  }
 },
 "nbformat": 4,
 "nbformat_minor": 4
}
