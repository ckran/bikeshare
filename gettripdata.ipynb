{
 "cells": [
  {
   "cell_type": "code",
   "execution_count": 60,
   "id": "vocational-navigator",
   "metadata": {},
   "outputs": [],
   "source": [
    "import os\n",
    "import sys\n",
    "import pandas as pd\n",
    "from pandas import to_datetime\n",
    "import numpy as np\n"
   ]
  },
  {
   "cell_type": "code",
   "execution_count": 52,
   "id": "fatal-monitor",
   "metadata": {},
   "outputs": [],
   "source": [
    "def get_tripdata_year(year):\n",
    "    for m in range(12):\n",
    "        get_tripdata(year,m+1)"
   ]
  },
  {
   "cell_type": "code",
   "execution_count": 58,
   "id": "aquatic-accounting",
   "metadata": {},
   "outputs": [],
   "source": [
    "def get_tripdata(year,month):\n",
    "    ym = (f\"{year}{month:02d}\")\n",
    "    filename = ym + '-citibike-tripdata.csv'\n",
    "    print(filename)\n",
    "    os.system('wget https://s3.amazonaws.com/tripdata/' + filename + '.zip') \n",
    "    os.system('unzip ' + filename + '.zip')\n",
    "    os.system('rm ' + filename + '.zip')\n",
    "    preparefile(filename)\n",
    "    os.system('rm ' + filename)"
   ]
  },
  {
   "cell_type": "code",
   "execution_count": 55,
   "id": "geographic-prescription",
   "metadata": {},
   "outputs": [],
   "source": [
    "def haversine(lat1, lon1, lat2, lon2):\n",
    "    \"\"\"\n",
    "    Calculate distance in miles between two cooridnates\n",
    "    latitidude, longitude in decimal degrees \n",
    "\n",
    "    \"\"\"\n",
    "    lon1, lat1, lon2, lat2 = map(np.radians ,[lon1, lat1, lon2, lat2])\n",
    "\n",
    "    h = np.sin((lat2-lat1)/2.0)**2 + np.cos(lat1) * np.cos(lat2) * np.sin((lon2-lon1)/2.0)**2\n",
    "\n",
    "    miles = 3959 * (2 * np.arcsin(np.sqrt(h))) \n",
    "    return miles "
   ]
  },
  {
   "cell_type": "code",
   "execution_count": 64,
   "id": "tracked-lewis",
   "metadata": {},
   "outputs": [],
   "source": [
    "def preparefile(filename):\n",
    "    \"\"\"\n",
    "    Clean and convert citibike tripdata csv file to parquet \n",
    "    \"\"\"\n",
    "    try:\n",
    "        df = pd.read_csv(filename)\n",
    "    except IOError as e:\n",
    "        print(e)\n",
    "        exit \n",
    "    \n",
    "    # convert start and end time columns to datetime \n",
    "    df['starttime'] = pd.to_datetime(df['starttime'])\n",
    "    df['stoptime'] = pd.to_datetime(df['stoptime'])\n",
    "    \n",
    "    # convert trip duration from seconds to minutes \n",
    "    df['tripminutes'] = df['tripduration'] // 60 \n",
    "    \n",
    "    # exctract date and time components, convert to category \n",
    "    df['start hour']=df['starttime'].dt.hour.astype('category')\n",
    "    df['start day']=df['starttime'].dt.day.astype('category')\n",
    "    df['weekday']=df['starttime'].dt.weekday.astype('category') # day of week \n",
    "    df['month']=df['starttime'].dt.month.astype('category')\n",
    "    df['year']=df['starttime'].dt.year.astype('category')\n",
    "    \n",
    "    # create weekend column as True for weekend days \n",
    "    df['weekend'] = [ d >= 5 for d in df['weekday']]\n",
    "        \n",
    "    # convert object columns to categories\n",
    "    cols = ['start station name', 'end station name', 'bikeid',  'usertype', 'gender']\n",
    "    for col in cols:\n",
    "        df[col] = df[col].astype('category')\n",
    "        \n",
    "    # ensure station ids are integer (due to possible missing values)\n",
    "    df['start station id'] = df['start station id'].astype('Int64')\n",
    "    df['end station id'] = df['end station id'].astype('Int64')\n",
    "    \n",
    "    # Create age column, omitting rows w/o gender specified to avoid default 1969\n",
    "    # and born before 1946 \n",
    "    skip = (df['gender'] == 0) | (df['birth year'] < 1946) \n",
    "    df['age'] = (2020 - df['birth year']).mask(skip,None)\n",
    "    \n",
    "    # calculate distance between stations \n",
    "    df['distance']=haversine(df['start station latitude'],df['start station longitude'],df['end station latitude'],df['end station longitude'])\n",
    "\n",
    "    # write file with same name and extension parquet\n",
    "    parquetfile=filename.split('.')[0]+'.parquet'\n",
    "    df.to_parquet(parquetfile) \n",
    "    return parquetfile \n"
   ]
  },
  {
   "cell_type": "code",
   "execution_count": 66,
   "id": "compatible-healing",
   "metadata": {},
   "outputs": [
    {
     "name": "stdout",
     "output_type": "stream",
     "text": [
      "201901-citibike-tripdata.csv\n",
      "201902-citibike-tripdata.csv\n",
      "201903-citibike-tripdata.csv\n",
      "201904-citibike-tripdata.csv\n",
      "201905-citibike-tripdata.csv\n",
      "201906-citibike-tripdata.csv\n",
      "201907-citibike-tripdata.csv\n",
      "201908-citibike-tripdata.csv\n",
      "201909-citibike-tripdata.csv\n",
      "201910-citibike-tripdata.csv\n",
      "201911-citibike-tripdata.csv\n",
      "201912-citibike-tripdata.csv\n"
     ]
    }
   ],
   "source": [
    "get_tripdata_year(2019)"
   ]
  },
  {
   "cell_type": "code",
   "execution_count": 67,
   "id": "naughty-albania",
   "metadata": {},
   "outputs": [
    {
     "name": "stdout",
     "output_type": "stream",
     "text": [
      "202001-citibike-tripdata.csv\n",
      "202002-citibike-tripdata.csv\n",
      "202003-citibike-tripdata.csv\n",
      "202004-citibike-tripdata.csv\n",
      "202005-citibike-tripdata.csv\n",
      "202006-citibike-tripdata.csv\n",
      "202007-citibike-tripdata.csv\n",
      "202008-citibike-tripdata.csv\n",
      "202009-citibike-tripdata.csv\n",
      "202010-citibike-tripdata.csv\n",
      "202011-citibike-tripdata.csv\n",
      "202012-citibike-tripdata.csv\n"
     ]
    }
   ],
   "source": [
    "get_tripdata_year(2020)"
   ]
  }
 ],
 "metadata": {
  "kernelspec": {
   "display_name": "Python 3",
   "language": "python",
   "name": "python3"
  },
  "language_info": {
   "codemirror_mode": {
    "name": "ipython",
    "version": 3
   },
   "file_extension": ".py",
   "mimetype": "text/x-python",
   "name": "python",
   "nbconvert_exporter": "python",
   "pygments_lexer": "ipython3",
   "version": "3.8.5"
  }
 },
 "nbformat": 4,
 "nbformat_minor": 5
}
